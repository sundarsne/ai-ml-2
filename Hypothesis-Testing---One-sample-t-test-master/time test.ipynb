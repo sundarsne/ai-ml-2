{
 "cells": [
  {
   "cell_type": "code",
   "execution_count": 2,
   "metadata": {},
   "outputs": [
    {
     "name": "stdout",
     "output_type": "stream",
     "text": [
      "    Processing_Time\n",
      "0                49\n",
      "1                46\n",
      "2                56\n",
      "3                56\n",
      "4                68\n",
      "5                46\n",
      "6                65\n",
      "7                21\n",
      "8                10\n",
      "9                26\n",
      "10               35\n",
      "11               25\n",
      "12               54\n",
      "13              105\n",
      "14                2\n",
      "15               39\n",
      "16               92\n",
      "17               44\n",
      "18               30\n",
      "19               36\n",
      "20               42\n",
      "21               43\n",
      "22               83\n",
      "23               68\n",
      "24               45\n",
      "25              102\n",
      "26                5\n",
      "27               54\n",
      "28               20\n",
      "29               52\n",
      "..              ...\n",
      "70               39\n",
      "71               61\n",
      "72               93\n",
      "73               48\n",
      "74                3\n",
      "75               55\n",
      "76               26\n",
      "77               61\n",
      "78               55\n",
      "79               77\n",
      "80               51\n",
      "81               50\n",
      "82                2\n",
      "83               60\n",
      "84               44\n",
      "85               41\n",
      "86               10\n",
      "87               57\n",
      "88               47\n",
      "89               55\n",
      "90                1\n",
      "91               61\n",
      "92               60\n",
      "93                4\n",
      "94               51\n",
      "95               36\n",
      "96               37\n",
      "97               12\n",
      "98               42\n",
      "99               72\n",
      "\n",
      "[100 rows x 1 columns]\n"
     ]
    }
   ],
   "source": [
    "import pandas as mypd\n",
    "from scipy import stats as mystats\n",
    "myData = mypd.read_csv(\".\\datasets\\PO_Processing.csv\")\n",
    "print(myData)\n"
   ]
  },
  {
   "cell_type": "code",
   "execution_count": 3,
   "metadata": {},
   "outputs": [
    {
     "name": "stdout",
     "output_type": "stream",
     "text": [
      "0      49\n",
      "1      46\n",
      "2      56\n",
      "3      56\n",
      "4      68\n",
      "5      46\n",
      "6      65\n",
      "7      21\n",
      "8      10\n",
      "9      26\n",
      "10     35\n",
      "11     25\n",
      "12     54\n",
      "13    105\n",
      "14      2\n",
      "15     39\n",
      "16     92\n",
      "17     44\n",
      "18     30\n",
      "19     36\n",
      "20     42\n",
      "21     43\n",
      "22     83\n",
      "23     68\n",
      "24     45\n",
      "25    102\n",
      "26      5\n",
      "27     54\n",
      "28     20\n",
      "29     52\n",
      "     ... \n",
      "70     39\n",
      "71     61\n",
      "72     93\n",
      "73     48\n",
      "74      3\n",
      "75     55\n",
      "76     26\n",
      "77     61\n",
      "78     55\n",
      "79     77\n",
      "80     51\n",
      "81     50\n",
      "82      2\n",
      "83     60\n",
      "84     44\n",
      "85     41\n",
      "86     10\n",
      "87     57\n",
      "88     47\n",
      "89     55\n",
      "90      1\n",
      "91     61\n",
      "92     60\n",
      "93      4\n",
      "94     51\n",
      "95     36\n",
      "96     37\n",
      "97     12\n",
      "98     42\n",
      "99     72\n",
      "Name: Processing_Time, Length: 100, dtype: int64\n"
     ]
    }
   ],
   "source": [
    "PT=myData.Processing_Time\n",
    "print(PT)"
   ]
  },
  {
   "cell_type": "code",
   "execution_count": 4,
   "metadata": {},
   "outputs": [
    {
     "data": {
      "text/plain": [
       "Ttest_1sampResult(statistic=3.7031497788267194, pvalue=0.0003505232879117331)"
      ]
     },
     "execution_count": 4,
     "metadata": {},
     "output_type": "execute_result"
    }
   ],
   "source": [
    "mystats.ttest_1samp(PT,40) #use for hypothesis testing (one of the function of statics)"
   ]
  },
  {
   "cell_type": "code",
   "execution_count": 5,
   "metadata": {},
   "outputs": [
    {
     "data": {
      "text/plain": [
       "49.0"
      ]
     },
     "execution_count": 5,
     "metadata": {},
     "output_type": "execute_result"
    }
   ],
   "source": [
    "PT.mean()"
   ]
  },
  {
   "cell_type": "code",
   "execution_count": null,
   "metadata": {},
   "outputs": [],
   "source": []
  }
 ],
 "metadata": {
  "kernelspec": {
   "display_name": "Python 3",
   "language": "python",
   "name": "python3"
  },
  "language_info": {
   "codemirror_mode": {
    "name": "ipython",
    "version": 3
   },
   "file_extension": ".py",
   "mimetype": "text/x-python",
   "name": "python",
   "nbconvert_exporter": "python",
   "pygments_lexer": "ipython3",
   "version": "3.6.5"
  }
 },
 "nbformat": 4,
 "nbformat_minor": 2
}
