{
 "cells": [
  {
   "cell_type": "code",
   "execution_count": 3,
   "metadata": {},
   "outputs": [
    {
     "data": {
      "text/plain": [
       "0     24\n",
       "1     31\n",
       "2     29\n",
       "3     26\n",
       "4     28\n",
       "5     26\n",
       "6     29\n",
       "7     29\n",
       "8     27\n",
       "9     31\n",
       "10    25\n",
       "11    29\n",
       "12    29\n",
       "13    25\n",
       "14    26\n",
       "15    26\n",
       "16    27\n",
       "17    24\n",
       "18    23\n",
       "19    27\n",
       "20    28\n",
       "21    27\n",
       "22    23\n",
       "23    27\n",
       "24    23\n",
       "25    25\n",
       "26    27\n",
       "27    26\n",
       "28    28\n",
       "29    27\n",
       "Name: Response_Time, dtype: int64"
      ]
     },
     "execution_count": 3,
     "metadata": {},
     "output_type": "execute_result"
    }
   ],
   "source": [
    "import pandas as mypd\n",
    "from scipy import stats as mystats\n",
    "myData=mypd.read_csv(\".\\datasets\\Complaint_Response_Time.csv\")\n",
    "myData.Response_Time\n",
    "                    "
   ]
  },
  {
   "cell_type": "code",
   "execution_count": 4,
   "metadata": {},
   "outputs": [
    {
     "data": {
      "text/plain": [
       "0     24\n",
       "1     31\n",
       "2     29\n",
       "3     26\n",
       "4     28\n",
       "5     26\n",
       "6     29\n",
       "7     29\n",
       "8     27\n",
       "9     31\n",
       "10    25\n",
       "11    29\n",
       "12    29\n",
       "13    25\n",
       "14    26\n",
       "15    26\n",
       "16    27\n",
       "17    24\n",
       "18    23\n",
       "19    27\n",
       "20    28\n",
       "21    27\n",
       "22    23\n",
       "23    27\n",
       "24    23\n",
       "25    25\n",
       "26    27\n",
       "27    26\n",
       "28    28\n",
       "29    27\n",
       "Name: Response_Time, dtype: int64"
      ]
     },
     "execution_count": 4,
     "metadata": {},
     "output_type": "execute_result"
    }
   ],
   "source": [
    "RT=myData.Response_Time\n",
    "RT"
   ]
  },
  {
   "cell_type": "code",
   "execution_count": 5,
   "metadata": {},
   "outputs": [
    {
     "data": {
      "text/plain": [
       "Ttest_1sampResult(statistic=6.916649423974787, pvalue=1.3350896696104558e-07)"
      ]
     },
     "execution_count": 5,
     "metadata": {},
     "output_type": "execute_result"
    }
   ],
   "source": [
    "mystats.ttest_1samp(RT,24)"
   ]
  },
  {
   "cell_type": "code",
   "execution_count": 6,
   "metadata": {},
   "outputs": [
    {
     "data": {
      "text/plain": [
       "26.733333333333334"
      ]
     },
     "execution_count": 6,
     "metadata": {},
     "output_type": "execute_result"
    }
   ],
   "source": [
    "RT.mean()"
   ]
  },
  {
   "cell_type": "code",
   "execution_count": null,
   "metadata": {},
   "outputs": [],
   "source": []
  }
 ],
 "metadata": {
  "kernelspec": {
   "display_name": "Python 3",
   "language": "python",
   "name": "python3"
  },
  "language_info": {
   "codemirror_mode": {
    "name": "ipython",
    "version": 3
   },
   "file_extension": ".py",
   "mimetype": "text/x-python",
   "name": "python",
   "nbconvert_exporter": "python",
   "pygments_lexer": "ipython3",
   "version": "3.6.5"
  }
 },
 "nbformat": 4,
 "nbformat_minor": 2
}
