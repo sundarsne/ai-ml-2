{
 "cells": [
  {
   "cell_type": "code",
   "execution_count": 1,
   "metadata": {},
   "outputs": [
    {
     "data": {
      "text/html": [
       "<div>\n",
       "<style scoped>\n",
       "    .dataframe tbody tr th:only-of-type {\n",
       "        vertical-align: middle;\n",
       "    }\n",
       "\n",
       "    .dataframe tbody tr th {\n",
       "        vertical-align: top;\n",
       "    }\n",
       "\n",
       "    .dataframe thead th {\n",
       "        text-align: right;\n",
       "    }\n",
       "</style>\n",
       "<table border=\"1\" class=\"dataframe\">\n",
       "  <thead>\n",
       "    <tr style=\"text-align: right;\">\n",
       "      <th></th>\n",
       "      <th>Position</th>\n",
       "      <th>Level</th>\n",
       "      <th>Salary</th>\n",
       "    </tr>\n",
       "  </thead>\n",
       "  <tbody>\n",
       "    <tr>\n",
       "      <th>0</th>\n",
       "      <td>Business Analyst</td>\n",
       "      <td>1</td>\n",
       "      <td>45000</td>\n",
       "    </tr>\n",
       "    <tr>\n",
       "      <th>1</th>\n",
       "      <td>Junior Consultant</td>\n",
       "      <td>2</td>\n",
       "      <td>50000</td>\n",
       "    </tr>\n",
       "    <tr>\n",
       "      <th>2</th>\n",
       "      <td>Senior Consultant</td>\n",
       "      <td>3</td>\n",
       "      <td>60000</td>\n",
       "    </tr>\n",
       "    <tr>\n",
       "      <th>3</th>\n",
       "      <td>Manager</td>\n",
       "      <td>4</td>\n",
       "      <td>80000</td>\n",
       "    </tr>\n",
       "    <tr>\n",
       "      <th>4</th>\n",
       "      <td>Country Manager</td>\n",
       "      <td>5</td>\n",
       "      <td>110000</td>\n",
       "    </tr>\n",
       "    <tr>\n",
       "      <th>5</th>\n",
       "      <td>Region Manager</td>\n",
       "      <td>6</td>\n",
       "      <td>150000</td>\n",
       "    </tr>\n",
       "    <tr>\n",
       "      <th>6</th>\n",
       "      <td>Partner</td>\n",
       "      <td>7</td>\n",
       "      <td>200000</td>\n",
       "    </tr>\n",
       "    <tr>\n",
       "      <th>7</th>\n",
       "      <td>Senior Partner</td>\n",
       "      <td>8</td>\n",
       "      <td>300000</td>\n",
       "    </tr>\n",
       "    <tr>\n",
       "      <th>8</th>\n",
       "      <td>C-level</td>\n",
       "      <td>9</td>\n",
       "      <td>500000</td>\n",
       "    </tr>\n",
       "    <tr>\n",
       "      <th>9</th>\n",
       "      <td>CEO</td>\n",
       "      <td>10</td>\n",
       "      <td>1000000</td>\n",
       "    </tr>\n",
       "  </tbody>\n",
       "</table>\n",
       "</div>"
      ],
      "text/plain": [
       "            Position  Level   Salary\n",
       "0   Business Analyst      1    45000\n",
       "1  Junior Consultant      2    50000\n",
       "2  Senior Consultant      3    60000\n",
       "3            Manager      4    80000\n",
       "4    Country Manager      5   110000\n",
       "5     Region Manager      6   150000\n",
       "6            Partner      7   200000\n",
       "7     Senior Partner      8   300000\n",
       "8            C-level      9   500000\n",
       "9                CEO     10  1000000"
      ]
     },
     "execution_count": 1,
     "metadata": {},
     "output_type": "execute_result"
    }
   ],
   "source": [
    "import pandas as pd\n",
    "import numpy as np\n",
    "import matplotlib.pyplot as myplt\n",
    "myData=pd.read_csv('Position_Salaries.csv')\n",
    "myData"
   ]
  },
  {
   "cell_type": "code",
   "execution_count": 2,
   "metadata": {},
   "outputs": [
    {
     "data": {
      "text/plain": [
       "array([[ 1],\n",
       "       [ 2],\n",
       "       [ 3],\n",
       "       [ 4],\n",
       "       [ 5],\n",
       "       [ 6],\n",
       "       [ 7],\n",
       "       [ 8],\n",
       "       [ 9],\n",
       "       [10]], dtype=int64)"
      ]
     },
     "execution_count": 2,
     "metadata": {},
     "output_type": "execute_result"
    }
   ],
   "source": [
    "x = myData.iloc[:,1:2].values\n",
    "x"
   ]
  },
  {
   "cell_type": "code",
   "execution_count": 3,
   "metadata": {},
   "outputs": [
    {
     "data": {
      "text/plain": [
       "array([[  45000],\n",
       "       [  50000],\n",
       "       [  60000],\n",
       "       [  80000],\n",
       "       [ 110000],\n",
       "       [ 150000],\n",
       "       [ 200000],\n",
       "       [ 300000],\n",
       "       [ 500000],\n",
       "       [1000000]], dtype=int64)"
      ]
     },
     "execution_count": 3,
     "metadata": {},
     "output_type": "execute_result"
    }
   ],
   "source": [
    "y = myData.iloc[:,2:3].values\n",
    "y"
   ]
  },
  {
   "cell_type": "code",
   "execution_count": 4,
   "metadata": {},
   "outputs": [
    {
     "name": "stderr",
     "output_type": "stream",
     "text": [
      "C:\\Users\\radix2016dec\\Anaconda3\\lib\\site-packages\\sklearn\\utils\\validation.py:475: DataConversionWarning: Data with input dtype int64 was converted to float64 by StandardScaler.\n",
      "  warnings.warn(msg, DataConversionWarning)\n"
     ]
    },
    {
     "data": {
      "text/plain": [
       "array([[-1.5666989 ],\n",
       "       [-1.21854359],\n",
       "       [-0.87038828],\n",
       "       [-0.52223297],\n",
       "       [-0.17407766],\n",
       "       [ 0.17407766],\n",
       "       [ 0.52223297],\n",
       "       [ 0.87038828],\n",
       "       [ 1.21854359],\n",
       "       [ 1.5666989 ]])"
      ]
     },
     "execution_count": 4,
     "metadata": {},
     "output_type": "execute_result"
    }
   ],
   "source": [
    "#feature scaling  svr model dont have inbuilt feature scaling\n",
    "from sklearn.preprocessing import StandardScaler\n",
    "sc_x = StandardScaler()\n",
    "x= sc_x.fit_transform(x)\n",
    "x"
   ]
  },
  {
   "cell_type": "code",
   "execution_count": 5,
   "metadata": {},
   "outputs": [
    {
     "name": "stderr",
     "output_type": "stream",
     "text": [
      "C:\\Users\\radix2016dec\\Anaconda3\\lib\\site-packages\\sklearn\\utils\\validation.py:475: DataConversionWarning: Data with input dtype int64 was converted to float64 by StandardScaler.\n",
      "  warnings.warn(msg, DataConversionWarning)\n"
     ]
    },
    {
     "data": {
      "text/plain": [
       "array([[-0.72004253],\n",
       "       [-0.70243757],\n",
       "       [-0.66722767],\n",
       "       [-0.59680786],\n",
       "       [-0.49117815],\n",
       "       [-0.35033854],\n",
       "       [-0.17428902],\n",
       "       [ 0.17781001],\n",
       "       [ 0.88200808],\n",
       "       [ 2.64250325]])"
      ]
     },
     "execution_count": 5,
     "metadata": {},
     "output_type": "execute_result"
    }
   ],
   "source": [
    "sc_y = StandardScaler()\n",
    "y = sc_y.fit_transform(y)\n",
    "y"
   ]
  },
  {
   "cell_type": "code",
   "execution_count": 6,
   "metadata": {},
   "outputs": [
    {
     "name": "stderr",
     "output_type": "stream",
     "text": [
      "C:\\Users\\radix2016dec\\Anaconda3\\lib\\site-packages\\sklearn\\utils\\validation.py:578: DataConversionWarning: A column-vector y was passed when a 1d array was expected. Please change the shape of y to (n_samples, ), for example using ravel().\n",
      "  y = column_or_1d(y, warn=True)\n"
     ]
    },
    {
     "data": {
      "text/plain": [
       "SVR(C=1.0, cache_size=200, coef0=0.0, degree=3, epsilon=0.1, gamma='auto',\n",
       "  kernel='rbf', max_iter=-1, shrinking=True, tol=0.001, verbose=False)"
      ]
     },
     "execution_count": 6,
     "metadata": {},
     "output_type": "execute_result"
    }
   ],
   "source": [
    "#fitting the regression model to data set\n",
    "from sklearn.svm import SVR\n",
    "mymodel = SVR(kernel='rbf') #gaussian kernel\n",
    "mymodel.fit(x,y)"
   ]
  },
  {
   "cell_type": "code",
   "execution_count": 7,
   "metadata": {},
   "outputs": [
    {
     "data": {
      "text/plain": [
       "array([170370.0204065])"
      ]
     },
     "execution_count": 7,
     "metadata": {},
     "output_type": "execute_result"
    }
   ],
   "source": [
    "y_pred = sc_y.inverse_transform(mymodel.predict(sc_x.transform(np.array(6.5))))\n",
    "y_pred"
   ]
  },
  {
   "cell_type": "code",
   "execution_count": 8,
   "metadata": {},
   "outputs": [
    {
     "data": {
      "image/png": "[encoded data removed]",
      "text/plain": [
       "<Figure size 432x288 with 1 Axes>"
      ]
     },
     "metadata": {},
     "output_type": "display_data"
    }
   ],
   "source": [
    "myplt.scatter(x,y,color='r')\n",
    "myplt.plot(x,mymodel.predict(x),color='b')\n",
    "myplt.show()"
   ]
  },
  {
   "cell_type": "code",
   "execution_count": 9,
   "metadata": {},
   "outputs": [
    {
     "data": {
      "text/plain": [
       "array([[-1.5666989],\n",
       "       [-1.5566989],\n",
       "       [-1.5466989],\n",
       "       [-1.5366989],\n",
       "       [-1.5266989],\n",
       "       [-1.5166989],\n",
       "       [-1.5066989],\n",
       "       [-1.4966989],\n",
       "       [-1.4866989],\n",
       "       [-1.4766989],\n",
       "       [-1.4666989],\n",
       "       [-1.4566989],\n",
       "       [-1.4466989],\n",
       "       [-1.4366989],\n",
       "       [-1.4266989],\n",
       "       [-1.4166989],\n",
       "       [-1.4066989],\n",
       "       [-1.3966989],\n",
       "       [-1.3866989],\n",
       "       [-1.3766989],\n",
       "       [-1.3666989],\n",
       "       [-1.3566989],\n",
       "       [-1.3466989],\n",
       "       [-1.3366989],\n",
       "       [-1.3266989],\n",
       "       [-1.3166989],\n",
       "       [-1.3066989],\n",
       "       [-1.2966989],\n",
       "       [-1.2866989],\n",
       "       [-1.2766989],\n",
       "       [-1.2666989],\n",
       "       [-1.2566989],\n",
       "       [-1.2466989],\n",
       "       [-1.2366989],\n",
       "       [-1.2266989],\n",
       "       [-1.2166989],\n",
       "       [-1.2066989],\n",
       "       [-1.1966989],\n",
       "       [-1.1866989],\n",
       "       [-1.1766989],\n",
       "       [-1.1666989],\n",
       "       [-1.1566989],\n",
       "       [-1.1466989],\n",
       "       [-1.1366989],\n",
       "       [-1.1266989],\n",
       "       [-1.1166989],\n",
       "       [-1.1066989],\n",
       "       [-1.0966989],\n",
       "       [-1.0866989],\n",
       "       [-1.0766989],\n",
       "       [-1.0666989],\n",
       "       [-1.0566989],\n",
       "       [-1.0466989],\n",
       "       [-1.0366989],\n",
       "       [-1.0266989],\n",
       "       [-1.0166989],\n",
       "       [-1.0066989],\n",
       "       [-0.9966989],\n",
       "       [-0.9866989],\n",
       "       [-0.9766989],\n",
       "       [-0.9666989],\n",
       "       [-0.9566989],\n",
       "       [-0.9466989],\n",
       "       [-0.9366989],\n",
       "       [-0.9266989],\n",
       "       [-0.9166989],\n",
       "       [-0.9066989],\n",
       "       [-0.8966989],\n",
       "       [-0.8866989],\n",
       "       [-0.8766989],\n",
       "       [-0.8666989],\n",
       "       [-0.8566989],\n",
       "       [-0.8466989],\n",
       "       [-0.8366989],\n",
       "       [-0.8266989],\n",
       "       [-0.8166989],\n",
       "       [-0.8066989],\n",
       "       [-0.7966989],\n",
       "       [-0.7866989],\n",
       "       [-0.7766989],\n",
       "       [-0.7666989],\n",
       "       [-0.7566989],\n",
       "       [-0.7466989],\n",
       "       [-0.7366989],\n",
       "       [-0.7266989],\n",
       "       [-0.7166989],\n",
       "       [-0.7066989],\n",
       "       [-0.6966989],\n",
       "       [-0.6866989],\n",
       "       [-0.6766989],\n",
       "       [-0.6666989],\n",
       "       [-0.6566989],\n",
       "       [-0.6466989],\n",
       "       [-0.6366989],\n",
       "       [-0.6266989],\n",
       "       [-0.6166989],\n",
       "       [-0.6066989],\n",
       "       [-0.5966989],\n",
       "       [-0.5866989],\n",
       "       [-0.5766989],\n",
       "       [-0.5666989],\n",
       "       [-0.5566989],\n",
       "       [-0.5466989],\n",
       "       [-0.5366989],\n",
       "       [-0.5266989],\n",
       "       [-0.5166989],\n",
       "       [-0.5066989],\n",
       "       [-0.4966989],\n",
       "       [-0.4866989],\n",
       "       [-0.4766989],\n",
       "       [-0.4666989],\n",
       "       [-0.4566989],\n",
       "       [-0.4466989],\n",
       "       [-0.4366989],\n",
       "       [-0.4266989],\n",
       "       [-0.4166989],\n",
       "       [-0.4066989],\n",
       "       [-0.3966989],\n",
       "       [-0.3866989],\n",
       "       [-0.3766989],\n",
       "       [-0.3666989],\n",
       "       [-0.3566989],\n",
       "       [-0.3466989],\n",
       "       [-0.3366989],\n",
       "       [-0.3266989],\n",
       "       [-0.3166989],\n",
       "       [-0.3066989],\n",
       "       [-0.2966989],\n",
       "       [-0.2866989],\n",
       "       [-0.2766989],\n",
       "       [-0.2666989],\n",
       "       [-0.2566989],\n",
       "       [-0.2466989],\n",
       "       [-0.2366989],\n",
       "       [-0.2266989],\n",
       "       [-0.2166989],\n",
       "       [-0.2066989],\n",
       "       [-0.1966989],\n",
       "       [-0.1866989],\n",
       "       [-0.1766989],\n",
       "       [-0.1666989],\n",
       "       [-0.1566989],\n",
       "       [-0.1466989],\n",
       "       [-0.1366989],\n",
       "       [-0.1266989],\n",
       "       [-0.1166989],\n",
       "       [-0.1066989],\n",
       "       [-0.0966989],\n",
       "       [-0.0866989],\n",
       "       [-0.0766989],\n",
       "       [-0.0666989],\n",
       "       [-0.0566989],\n",
       "       [-0.0466989],\n",
       "       [-0.0366989],\n",
       "       [-0.0266989],\n",
       "       [-0.0166989],\n",
       "       [-0.0066989],\n",
       "       [ 0.0033011],\n",
       "       [ 0.0133011],\n",
       "       [ 0.0233011],\n",
       "       [ 0.0333011],\n",
       "       [ 0.0433011],\n",
       "       [ 0.0533011],\n",
       "       [ 0.0633011],\n",
       "       [ 0.0733011],\n",
       "       [ 0.0833011],\n",
       "       [ 0.0933011],\n",
       "       [ 0.1033011],\n",
       "       [ 0.1133011],\n",
       "       [ 0.1233011],\n",
       "       [ 0.1333011],\n",
       "       [ 0.1433011],\n",
       "       [ 0.1533011],\n",
       "       [ 0.1633011],\n",
       "       [ 0.1733011],\n",
       "       [ 0.1833011],\n",
       "       [ 0.1933011],\n",
       "       [ 0.2033011],\n",
       "       [ 0.2133011],\n",
       "       [ 0.2233011],\n",
       "       [ 0.2333011],\n",
       "       [ 0.2433011],\n",
       "       [ 0.2533011],\n",
       "       [ 0.2633011],\n",
       "       [ 0.2733011],\n",
       "       [ 0.2833011],\n",
       "       [ 0.2933011],\n",
       "       [ 0.3033011],\n",
       "       [ 0.3133011],\n",
       "       [ 0.3233011],\n",
       "       [ 0.3333011],\n",
       "       [ 0.3433011],\n",
       "       [ 0.3533011],\n",
       "       [ 0.3633011],\n",
       "       [ 0.3733011],\n",
       "       [ 0.3833011],\n",
       "       [ 0.3933011],\n",
       "       [ 0.4033011],\n",
       "       [ 0.4133011],\n",
       "       [ 0.4233011],\n",
       "       [ 0.4333011],\n",
       "       [ 0.4433011],\n",
       "       [ 0.4533011],\n",
       "       [ 0.4633011],\n",
       "       [ 0.4733011],\n",
       "       [ 0.4833011],\n",
       "       [ 0.4933011],\n",
       "       [ 0.5033011],\n",
       "       [ 0.5133011],\n",
       "       [ 0.5233011],\n",
       "       [ 0.5333011],\n",
       "       [ 0.5433011],\n",
       "       [ 0.5533011],\n",
       "       [ 0.5633011],\n",
       "       [ 0.5733011],\n",
       "       [ 0.5833011],\n",
       "       [ 0.5933011],\n",
       "       [ 0.6033011],\n",
       "       [ 0.6133011],\n",
       "       [ 0.6233011],\n",
       "       [ 0.6333011],\n",
       "       [ 0.6433011],\n",
       "       [ 0.6533011],\n",
       "       [ 0.6633011],\n",
       "       [ 0.6733011],\n",
       "       [ 0.6833011],\n",
       "       [ 0.6933011],\n",
       "       [ 0.7033011],\n",
       "       [ 0.7133011],\n",
       "       [ 0.7233011],\n",
       "       [ 0.7333011],\n",
       "       [ 0.7433011],\n",
       "       [ 0.7533011],\n",
       "       [ 0.7633011],\n",
       "       [ 0.7733011],\n",
       "       [ 0.7833011],\n",
       "       [ 0.7933011],\n",
       "       [ 0.8033011],\n",
       "       [ 0.8133011],\n",
       "       [ 0.8233011],\n",
       "       [ 0.8333011],\n",
       "       [ 0.8433011],\n",
       "       [ 0.8533011],\n",
       "       [ 0.8633011],\n",
       "       [ 0.8733011],\n",
       "       [ 0.8833011],\n",
       "       [ 0.8933011],\n",
       "       [ 0.9033011],\n",
       "       [ 0.9133011],\n",
       "       [ 0.9233011],\n",
       "       [ 0.9333011],\n",
       "       [ 0.9433011],\n",
       "       [ 0.9533011],\n",
       "       [ 0.9633011],\n",
       "       [ 0.9733011],\n",
       "       [ 0.9833011],\n",
       "       [ 0.9933011],\n",
       "       [ 1.0033011],\n",
       "       [ 1.0133011],\n",
       "       [ 1.0233011],\n",
       "       [ 1.0333011],\n",
       "       [ 1.0433011],\n",
       "       [ 1.0533011],\n",
       "       [ 1.0633011],\n",
       "       [ 1.0733011],\n",
       "       [ 1.0833011],\n",
       "       [ 1.0933011],\n",
       "       [ 1.1033011],\n",
       "       [ 1.1133011],\n",
       "       [ 1.1233011],\n",
       "       [ 1.1333011],\n",
       "       [ 1.1433011],\n",
       "       [ 1.1533011],\n",
       "       [ 1.1633011],\n",
       "       [ 1.1733011],\n",
       "       [ 1.1833011],\n",
       "       [ 1.1933011],\n",
       "       [ 1.2033011],\n",
       "       [ 1.2133011],\n",
       "       [ 1.2233011],\n",
       "       [ 1.2333011],\n",
       "       [ 1.2433011],\n",
       "       [ 1.2533011],\n",
       "       [ 1.2633011],\n",
       "       [ 1.2733011],\n",
       "       [ 1.2833011],\n",
       "       [ 1.2933011],\n",
       "       [ 1.3033011],\n",
       "       [ 1.3133011],\n",
       "       [ 1.3233011],\n",
       "       [ 1.3333011],\n",
       "       [ 1.3433011],\n",
       "       [ 1.3533011],\n",
       "       [ 1.3633011],\n",
       "       [ 1.3733011],\n",
       "       [ 1.3833011],\n",
       "       [ 1.3933011],\n",
       "       [ 1.4033011],\n",
       "       [ 1.4133011],\n",
       "       [ 1.4233011],\n",
       "       [ 1.4333011],\n",
       "       [ 1.4433011],\n",
       "       [ 1.4533011],\n",
       "       [ 1.4633011],\n",
       "       [ 1.4733011],\n",
       "       [ 1.4833011],\n",
       "       [ 1.4933011],\n",
       "       [ 1.5033011],\n",
       "       [ 1.5133011],\n",
       "       [ 1.5233011],\n",
       "       [ 1.5333011],\n",
       "       [ 1.5433011],\n",
       "       [ 1.5533011],\n",
       "       [ 1.5633011]])"
      ]
     },
     "execution_count": 9,
     "metadata": {},
     "output_type": "execute_result"
    }
   ],
   "source": [
    "x_grid = np.arange(min(x),max(x),0.01)\n",
    "x_grid = x_grid.reshape(len(x_grid),1)\n",
    "x_grid"
   ]
  },
  {
   "cell_type": "code",
   "execution_count": 10,
   "metadata": {},
   "outputs": [
    {
     "data": {
      "image/png": "[encoded data removed]",
      "text/plain": [
       "<Figure size 432x288 with 1 Axes>"
      ]
     },
     "metadata": {},
     "output_type": "display_data"
    }
   ],
   "source": [
    "myplt.scatter (x,y,color='r')\n",
    "myplt.plot(x_grid,mymodel.predict(x_grid),color='b')\n",
    "myplt.show()"
   ]
  },
  {
   "cell_type": "code",
   "execution_count": null,
   "metadata": {},
   "outputs": [],
   "source": []
  }
 ],
 "metadata": {
  "kernelspec": {
   "display_name": "Python 3",
   "language": "python",
   "name": "python3"
  },
  "language_info": {
   "codemirror_mode": {
    "name": "ipython",
    "version": 3
   },
   "file_extension": ".py",
   "mimetype": "text/x-python",
   "name": "python",
   "nbconvert_exporter": "python",
   "pygments_lexer": "ipython3",
   "version": "3.6.5"
  }
 },
 "nbformat": 4,
 "nbformat_minor": 2
}
